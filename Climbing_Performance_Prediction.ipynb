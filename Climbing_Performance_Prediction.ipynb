{
  "nbformat": 4,
  "nbformat_minor": 0,
  "metadata": {
    "colab": {
      "provenance": []
    },
    "kernelspec": {
      "name": "python3",
      "display_name": "Python 3"
    },
    "language_info": {
      "name": "python"
    }
  },
  "cells": [
    {
      "cell_type": "markdown",
      "source": [
        "#**Climbing Performance Prediction**\n",
        "\n",
        "\n",
        "**Author:** Pedro Moura\n",
        "\n",
        "**Date:** Mar 31, 2024\n",
        "\n",
        "---"
      ],
      "metadata": {
        "id": "UZeNOzqAjwgU"
      }
    },
    {
      "cell_type": "markdown",
      "source": [
        "## 1. Goals of the Study\n"
      ],
      "metadata": {
        "id": "WoW5YnAFkj8f"
      }
    },
    {
      "cell_type": "markdown",
      "source": [
        "The aim of this project is to predict the hardest V grade a climber can climb using a regression model. This prediction is based on various factors including but not limited to body characteristics (height, weight, arm span), climbing experience, and detailed training habits (types and frequency of training)."
      ],
      "metadata": {
        "id": "aoSsGZG8V4cE"
      }
    },
    {
      "cell_type": "markdown",
      "source": [
        "##2. Data Source and Data Cleaning/Preprocessing\n",
        "\n",
        "The data source I’ll be using is the [\"Climbharder #V3 (Responses)\"](https://docs.google.com/spreadsheets/d/1J6d45EqIlIsIqNdi2X-Zl-EGFxf9d9T3R_W55xrpEAs/edit#gid=1650492946) dataset. It contains climbers' responses about their physical attributes, climbing experience, and training habits. Here are some details about the data:\n"
      ],
      "metadata": {
        "id": "Wa8KK6wMlEvK"
      }
    },
    {
      "cell_type": "code",
      "source": [
        "import pandas as pd\n",
        "\n",
        "file_path = '/content/Climbharder #V3 (Responses).xlsx'\n",
        "df = pd.read_excel(file_path)\n",
        "\n",
        "# first few rows of the dataset\n",
        "print(df.info())\n",
        "\n",
        "# check for missing values\n",
        "missing_values_percentage_csv = (df.isnull().sum() / len(df)) * 100\n",
        "print(missing_values_percentage_csv)\n",
        "\n",
        "# look the data types\n",
        "print(df.dtypes)"
      ],
      "metadata": {
        "colab": {
          "base_uri": "https://localhost:8080/"
        },
        "id": "XifF_Mu-mKeq",
        "outputId": "49636420-001b-4e5c-d12c-aec854661e62"
      },
      "execution_count": 261,
      "outputs": [
        {
          "output_type": "stream",
          "name": "stdout",
          "text": [
            "<class 'pandas.core.frame.DataFrame'>\n",
            "RangeIndex: 633 entries, 0 to 632\n",
            "Data columns (total 35 columns):\n",
            " #   Column                                                                              Non-Null Count  Dtype         \n",
            "---  ------                                                                              --------------  -----         \n",
            " 0   Timestamp                                                                           633 non-null    datetime64[ns]\n",
            " 1   Sex                                                                                 633 non-null    object        \n",
            " 2   Height (cm)                                                                         633 non-null    object        \n",
            " 3   Weight (KG)                                                                         633 non-null    object        \n",
            " 4   Arm Span (cm)                                                                       630 non-null    object        \n",
            " 5   How long have you been climbing for?                                                633 non-null    object        \n",
            " 6   Where do you climb?                                                                 633 non-null    object        \n",
            " 7   Hardest V Grade ever climbed                                                        633 non-null    object        \n",
            " 8   Hardest V Grade climbed in the Last 3 months                                        633 non-null    object        \n",
            " 9   The V grade you can send 90-100% of routes                                          633 non-null    object        \n",
            " 10  Hardest Route grade climbed (Ewbank grade)                                          633 non-null    object        \n",
            " 11  Hardest route climbed last 3 months (ewbank)                                        633 non-null    object        \n",
            " 12  Route grade you can send 90-100% of climbs                                          633 non-null    object        \n",
            " 13  Frequency of climbing sessions per week                                             633 non-null    int64         \n",
            " 14  Average hours climbing per week (not including training)                            633 non-null    int64         \n",
            " 15  Average hours Training for climbing per week                                        633 non-null    int64         \n",
            " 16  Hangboard Frequency per week                                                        633 non-null    int64         \n",
            " 17  Hangboard grips used                                                                633 non-null    object        \n",
            " 18  Style of Hangboarding chosen                                                        633 non-null    object        \n",
            " 19  Max Weight hangboard 18mm edge - Half crimp (KG)  (10 seconds) (added weight only)  248 non-null    object        \n",
            " 20  Max Weight hangboard 18mm edge - open crimp (KG) (10 seconds)  (added weight only)  210 non-null    object        \n",
            " 21  Min Edge used (mm, +kg if weight added ) - Half Crimp (10 seconds)                  199 non-null    object        \n",
            " 22  Min Edge used (mm, +kg if weight added) - Open crimp (10 seconds)                   169 non-null    object        \n",
            " 23  Campus Board frequency per week                                                     633 non-null    int64         \n",
            " 24  Campus Board time per week (hours)                                                  633 non-null    int64         \n",
            " 25  Frequency of Endurance training sesions per week                                    633 non-null    int64         \n",
            " 26  Endurance training                                                                  610 non-null    object        \n",
            " 27  General Strength Training frequency per week                                        633 non-null    int64         \n",
            " 28  Time spent General strength training (hours)                                        633 non-null    int64         \n",
            " 29  Type of Strength training                                                           633 non-null    object        \n",
            " 30  Other activities (ie yoga, cardio)                                                  314 non-null    object        \n",
            " 31  Max pull up reps                                                                    504 non-null    object        \n",
            " 32  5 rep max weighted pull ups                                                         336 non-null    object        \n",
            " 33  max push ups reps                                                                   409 non-null    object        \n",
            " 34  max L-sit time                                                                      267 non-null    object        \n",
            "dtypes: datetime64[ns](1), int64(9), object(25)\n",
            "memory usage: 173.2+ KB\n",
            "None\n",
            "Timestamp                                                                              0.000000\n",
            "Sex                                                                                    0.000000\n",
            "Height (cm)                                                                            0.000000\n",
            "Weight (KG)                                                                            0.000000\n",
            "Arm Span (cm)                                                                          0.473934\n",
            "How long have you been climbing for?                                                   0.000000\n",
            "Where do you climb?                                                                    0.000000\n",
            "Hardest V Grade ever climbed                                                           0.000000\n",
            "Hardest V Grade climbed in the Last 3 months                                           0.000000\n",
            "The V grade you can send 90-100% of routes                                             0.000000\n",
            "Hardest Route grade climbed (Ewbank grade)                                             0.000000\n",
            "Hardest route climbed last 3 months (ewbank)                                           0.000000\n",
            "Route grade you can send 90-100% of climbs                                             0.000000\n",
            "Frequency of climbing sessions per week                                                0.000000\n",
            "Average hours climbing per week (not including training)                               0.000000\n",
            "Average hours Training for climbing per week                                           0.000000\n",
            "Hangboard Frequency per week                                                           0.000000\n",
            "Hangboard grips used                                                                   0.000000\n",
            "Style of Hangboarding chosen                                                           0.000000\n",
            "Max Weight hangboard 18mm edge - Half crimp (KG)  (10 seconds) (added weight only)    60.821485\n",
            "Max Weight hangboard 18mm edge - open crimp (KG) (10 seconds)  (added weight only)    66.824645\n",
            "Min Edge used (mm, +kg if weight added ) - Half Crimp (10 seconds)                    68.562401\n",
            "Min Edge used (mm, +kg if weight added) - Open crimp (10 seconds)                     73.301738\n",
            "Campus Board frequency per week                                                        0.000000\n",
            "Campus Board time per week (hours)                                                     0.000000\n",
            "Frequency of Endurance training sesions per week                                       0.000000\n",
            "Endurance training                                                                     3.633491\n",
            "General Strength Training frequency per week                                           0.000000\n",
            "Time spent General strength training (hours)                                           0.000000\n",
            "Type of Strength training                                                              0.000000\n",
            "Other activities (ie yoga, cardio)                                                    50.394945\n",
            "Max pull up reps                                                                      20.379147\n",
            "5 rep max weighted pull ups                                                           46.919431\n",
            "max push ups reps                                                                     35.387046\n",
            "max L-sit time                                                                        57.819905\n",
            "dtype: float64\n",
            "Timestamp                                                                             datetime64[ns]\n",
            "Sex                                                                                           object\n",
            "Height (cm)                                                                                   object\n",
            "Weight (KG)                                                                                   object\n",
            "Arm Span (cm)                                                                                 object\n",
            "How long have you been climbing for?                                                          object\n",
            "Where do you climb?                                                                           object\n",
            "Hardest V Grade ever climbed                                                                  object\n",
            "Hardest V Grade climbed in the Last 3 months                                                  object\n",
            "The V grade you can send 90-100% of routes                                                    object\n",
            "Hardest Route grade climbed (Ewbank grade)                                                    object\n",
            "Hardest route climbed last 3 months (ewbank)                                                  object\n",
            "Route grade you can send 90-100% of climbs                                                    object\n",
            "Frequency of climbing sessions per week                                                        int64\n",
            "Average hours climbing per week (not including training)                                       int64\n",
            "Average hours Training for climbing per week                                                   int64\n",
            "Hangboard Frequency per week                                                                   int64\n",
            "Hangboard grips used                                                                          object\n",
            "Style of Hangboarding chosen                                                                  object\n",
            "Max Weight hangboard 18mm edge - Half crimp (KG)  (10 seconds) (added weight only)            object\n",
            "Max Weight hangboard 18mm edge - open crimp (KG) (10 seconds)  (added weight only)            object\n",
            "Min Edge used (mm, +kg if weight added ) - Half Crimp (10 seconds)                            object\n",
            "Min Edge used (mm, +kg if weight added) - Open crimp (10 seconds)                             object\n",
            "Campus Board frequency per week                                                                int64\n",
            "Campus Board time per week (hours)                                                             int64\n",
            "Frequency of Endurance training sesions per week                                               int64\n",
            "Endurance training                                                                            object\n",
            "General Strength Training frequency per week                                                   int64\n",
            "Time spent General strength training (hours)                                                   int64\n",
            "Type of Strength training                                                                     object\n",
            "Other activities (ie yoga, cardio)                                                            object\n",
            "Max pull up reps                                                                              object\n",
            "5 rep max weighted pull ups                                                                   object\n",
            "max push ups reps                                                                             object\n",
            "max L-sit time                                                                                object\n",
            "dtype: object\n"
          ]
        }
      ]
    },
    {
      "cell_type": "markdown",
      "source": [
        "Observations:\n",
        "\n",
        "I) There are a lot o input variance caused by respondents. Here are some examples:\n",
        "\n",
        ">\"The one that is not sure about their answers\"\n",
        "\n",
        "> <img src=\"https://drive.google.com/uc?export=view&id=1t_D9WctWYtVeCO1i7ItOFFHasSGcijF9\" width=\"400\" height=\"70\">\n",
        "\n",
        "\n",
        "> \"The one that doesn't know metric system\"\n",
        "\n",
        "> <img src=\"https://drive.google.com/uc?export=view&id=17CnyP7topkBTXZZOHnIhVJxGd6PpxEXT\" width=\"400\" height=\"100\">\n",
        "\n",
        "\n",
        "> \"The one that get offended by survey\"\n",
        "\n",
        "> <img src=\"https://drive.google.com/uc?export=view&id=1InzTpI6hQMnoL77RfPLm6rbu0yGTAlkq\" width=\"400\" height=\"90\">\n",
        "\n",
        "\n",
        "\n",
        "II) There are a lot of missong value for some specific columns, for example:\n",
        "\n",
        "> **464** Missing values - \"Min Edge used (mm, +kg if weight added) - Open crimp (10 seconds)\"               \n",
        "\n",
        "> **434** Missing values - \"Min Edge used (mm, +kg if weight added) - Half crimp (10 seconds)\n",
        "\n",
        "> **423** Missing values - \"Max Weight hangboard 18mm edge - open crimp (KG) (10 seconds)  (added weight only) \"\n",
        "\n",
        "There three are the top 3 features with most missing values."
      ],
      "metadata": {
        "id": "ENKEm4A9oSz2"
      }
    },
    {
      "cell_type": "markdown",
      "source": [
        "### 2.1 Cleaning Data\n",
        "\n",
        "The first thing I did before cleaning up the data was to analyze carefully each column. Columns like \"Sex\", \"Where do you climb?\" and climb grade related where all fine, I basically didn't have to change nothing. But the remaining one needed some modifications.\n",
        "\n",
        "Here is my approach for each column/feature:\n",
        "- **Height:** Converte to metric system(cm) and remove \"cm\" from response, if present.  \n",
        "- **Weight:** Converte to metric system(kg) and remove \"kg\" from response, if present.\n",
        "- **Arm Span**: Converte to metric system(cm) and remove \"cm\" from response, if present.\n",
        "- **How long have you been climbing for?:** Replace for average.\n",
        "- **All V Grade's columns:** Remove the V in front of the grade to make it numerical.\n",
        "- **Max Weight hangboard 18mm edge - Half crimp (KG)  (10 seconds) (added weight only):** Not use\n",
        "- **Max Weight hangboard 18mm edge - open crimp (KG) (10 seconds)  (added weight only):** Not use\n",
        "- **Min Edge used (mm, +kg if weight added ) - Half Crimp (10 seconds):** Not use\n",
        "- **Min Edge used (mm, +kg if weight added) - Open crimp (10 seconds):** Not use\n",
        "- **Max pull up reps:** Fix some number approximations\n",
        "- **5 rep max weighted pull ups:** Converte to metric system(kg) and remove \"kg\" from response, if present.\n",
        "- **max push ups reps:** Fix some number approximations\n",
        "- **max L-sit time:** Not use\n",
        "\n",
        "If some colum/feature was not cited is because I will not change anything on it. Also, all columns with \"Not use\" I will not use on my model due the amount of missing values. I decided that by setting a treshold, so if a column has >60% of missing values, I will not be using it."
      ],
      "metadata": {
        "id": "qDrAczBvsqEM"
      }
    },
    {
      "cell_type": "markdown",
      "source": [
        "Here is the data after running small excel functions/scripts and a lot, and I mean A LOT, of manual fix:"
      ],
      "metadata": {
        "id": "4zD4ZhYUCgQX"
      }
    },
    {
      "cell_type": "code",
      "source": [
        "file_path = '/content/Climb Data - Climb Data.csv.csv'\n",
        "df_updated = pd.read_csv(file_path)\n",
        "\n",
        "\n",
        "print(df_updated.head())\n",
        "\n",
        "print(df_updated.info())\n",
        "\n",
        "missing_values_percentage_csv = (df_updated.isnull().sum() / len(df_updated)) * 100\n",
        "\n",
        "missing_values_percentage_csv"
      ],
      "metadata": {
        "id": "dcl5Ln_0ozu7",
        "colab": {
          "base_uri": "https://localhost:8080/"
        },
        "outputId": "5afd30fa-2857-4d53-f7b7-f323e4ce234c"
      },
      "execution_count": 262,
      "outputs": [
        {
          "output_type": "stream",
          "name": "stdout",
          "text": [
            "    Sex  Height (cm)  Weight (kg)  Arm Span (cm)  \\\n",
            "0  Male        173.0         77.0          178.0   \n",
            "1  Male        180.0         81.0          180.0   \n",
            "2  Male        178.0         67.0          175.0   \n",
            "3  Male        173.0         70.0          178.0   \n",
            "4  Male        184.0         84.0          197.0   \n",
            "\n",
            "   How long have you been climbing for?          Where do you climb?  \\\n",
            "0                                  4.75  Indoor and outdoor climbing   \n",
            "1                                  3.25         Indoor Climbing only   \n",
            "2                                  0.75  Indoor and outdoor climbing   \n",
            "3                                  9.25  Indoor and outdoor climbing   \n",
            "4                                  6.75  Indoor and outdoor climbing   \n",
            "\n",
            "  Hardest V Grade ever climbed Hardest V Grade climbed in the Last 3 months  \\\n",
            "0                           V8                                           V8   \n",
            "1                           V3                                           V3   \n",
            "2                           V7                                           V6   \n",
            "3                           V5                                           V4   \n",
            "4                          V10                                          V10   \n",
            "\n",
            "  The V grade you can send 90-100% of routes  \\\n",
            "0                                         V6   \n",
            "1                                         V1   \n",
            "2                                         V5   \n",
            "3                                         V3   \n",
            "4                                         V7   \n",
            "\n",
            "   Frequency of climbing sessions per week  \\\n",
            "0                                        4   \n",
            "1                                        1   \n",
            "2                                        3   \n",
            "3                                        2   \n",
            "4                                        6   \n",
            "\n",
            "   Average hours climbing per week (not including training)  \\\n",
            "0                                                  8          \n",
            "1                                                  3          \n",
            "2                                                  4          \n",
            "3                                                  6          \n",
            "4                                                 10          \n",
            "\n",
            "   Average hours Training for climbing per week  Hangboard Frequency per week  \\\n",
            "0                                             6                             0   \n",
            "1                                            10                             2   \n",
            "2                                             3                             2   \n",
            "3                                             1                             1   \n",
            "4                                             2                             4   \n",
            "\n",
            "   Campus Board frequency per week  Campus Board time per week (hours)  \\\n",
            "0                                0                                   0   \n",
            "1                                0                                   0   \n",
            "2                                0                                   0   \n",
            "3                                0                                   0   \n",
            "4                                0                                   0   \n",
            "\n",
            "   Frequency of Endurance training sesions per week  \\\n",
            "0                                                 1   \n",
            "1                                                 1   \n",
            "2                                                 2   \n",
            "3                                                 1   \n",
            "4                                                 2   \n",
            "\n",
            "   General Strength Training frequency per week  Max pull up reps  \\\n",
            "0                                             3              15.0   \n",
            "1                                             2              11.0   \n",
            "2                                             3              17.0   \n",
            "3                                             0               8.0   \n",
            "4                                             2               NaN   \n",
            "\n",
            "   5 rep max weighted pull ups  max push ups reps  \n",
            "0                         29.0               40.0  \n",
            "1                          5.0               24.0  \n",
            "2                         20.0                NaN  \n",
            "3                          NaN               30.0  \n",
            "4                          NaN                NaN  \n",
            "<class 'pandas.core.frame.DataFrame'>\n",
            "RangeIndex: 629 entries, 0 to 628\n",
            "Data columns (total 20 columns):\n",
            " #   Column                                                    Non-Null Count  Dtype  \n",
            "---  ------                                                    --------------  -----  \n",
            " 0   Sex                                                       629 non-null    object \n",
            " 1   Height (cm)                                               629 non-null    float64\n",
            " 2   Weight (kg)                                               629 non-null    float64\n",
            " 3   Arm Span (cm)                                             605 non-null    float64\n",
            " 4   How long have you been climbing for?                      629 non-null    float64\n",
            " 5   Where do you climb?                                       629 non-null    object \n",
            " 6   Hardest V Grade ever climbed                              629 non-null    object \n",
            " 7   Hardest V Grade climbed in the Last 3 months              629 non-null    object \n",
            " 8   The V grade you can send 90-100% of routes                629 non-null    object \n",
            " 9   Frequency of climbing sessions per week                   629 non-null    int64  \n",
            " 10  Average hours climbing per week (not including training)  629 non-null    int64  \n",
            " 11  Average hours Training for climbing per week              629 non-null    int64  \n",
            " 12  Hangboard Frequency per week                              629 non-null    int64  \n",
            " 13  Campus Board frequency per week                           629 non-null    int64  \n",
            " 14  Campus Board time per week (hours)                        629 non-null    int64  \n",
            " 15  Frequency of Endurance training sesions per week          629 non-null    int64  \n",
            " 16  General Strength Training frequency per week              629 non-null    int64  \n",
            " 17  Max pull up reps                                          489 non-null    float64\n",
            " 18  5 rep max weighted pull ups                               293 non-null    float64\n",
            " 19  max push ups reps                                         380 non-null    float64\n",
            "dtypes: float64(7), int64(8), object(5)\n",
            "memory usage: 98.4+ KB\n",
            "None\n"
          ]
        },
        {
          "output_type": "execute_result",
          "data": {
            "text/plain": [
              "Sex                                                          0.000000\n",
              "Height (cm)                                                  0.000000\n",
              "Weight (kg)                                                  0.000000\n",
              "Arm Span (cm)                                                3.815580\n",
              "How long have you been climbing for?                         0.000000\n",
              "Where do you climb?                                          0.000000\n",
              "Hardest V Grade ever climbed                                 0.000000\n",
              "Hardest V Grade climbed in the Last 3 months                 0.000000\n",
              "The V grade you can send 90-100% of routes                   0.000000\n",
              "Frequency of climbing sessions per week                      0.000000\n",
              "Average hours climbing per week (not including training)     0.000000\n",
              "Average hours Training for climbing per week                 0.000000\n",
              "Hangboard Frequency per week                                 0.000000\n",
              "Campus Board frequency per week                              0.000000\n",
              "Campus Board time per week (hours)                           0.000000\n",
              "Frequency of Endurance training sesions per week             0.000000\n",
              "General Strength Training frequency per week                 0.000000\n",
              "Max pull up reps                                            22.257552\n",
              "5 rep max weighted pull ups                                 53.418124\n",
              "max push ups reps                                           39.586645\n",
              "dtype: float64"
            ]
          },
          "metadata": {},
          "execution_count": 262
        }
      ]
    },
    {
      "cell_type": "markdown",
      "source": [
        "### 2.2 Handling Missing Values"
      ],
      "metadata": {
        "id": "RtMj5C76Lg1N"
      }
    },
    {
      "cell_type": "code",
      "source": [
        "import numpy as np\n",
        "\n",
        "# fill NaN values with its columns mean\n",
        "numerical_columns = df_updated.select_dtypes(include=np.number).columns\n",
        "df_updated[numerical_columns] = df_updated[numerical_columns].fillna(df_updated[numerical_columns].mean())\n",
        "\n",
        "# mapping Sex\n",
        "sex_mapping = {\"Female\": 0, \"Male\": 1}\n",
        "df_updated[\"Sex\"] = df_updated[\"Sex\"].map(sex_mapping)\n",
        "\n",
        "# mapping Climbing place\n",
        "place_mapping = {\"Indoor Climbing only\":0, \"Outdoor Climbing only\": 1, \"Indoor and outdoor climbing\": 2}\n",
        "df_updated[\"Where do you climb?\"] = df_updated[\"Where do you climb?\"].map(place_mapping)\n",
        "\n",
        "# mapping \"V\" grades to numbers and \"I don't boulder\" to -1\n",
        "grade_mapping = {\"I don't boulder\": -1}\n",
        "for i in range(15):\n",
        "  grade_mapping[f'V{i}'] = i\n",
        "\n",
        "v_columns = [\"Hardest V Grade ever climbed\",\n",
        "             \"Hardest V Grade climbed in the Last 3 months\",\n",
        "             \"The V grade you can send 90-100% of routes\"]\n",
        "\n",
        "for col in v_columns:\n",
        "  df_updated[col] = df_updated[col].map(grade_mapping)\n",
        "\n",
        "df_updated.info()\n"
      ],
      "metadata": {
        "colab": {
          "base_uri": "https://localhost:8080/"
        },
        "id": "Q__Qc_x2XvF9",
        "outputId": "9bb98537-7adb-42b2-91fb-3ec9b60feb4c"
      },
      "execution_count": 263,
      "outputs": [
        {
          "output_type": "stream",
          "name": "stdout",
          "text": [
            "<class 'pandas.core.frame.DataFrame'>\n",
            "RangeIndex: 629 entries, 0 to 628\n",
            "Data columns (total 20 columns):\n",
            " #   Column                                                    Non-Null Count  Dtype  \n",
            "---  ------                                                    --------------  -----  \n",
            " 0   Sex                                                       629 non-null    int64  \n",
            " 1   Height (cm)                                               629 non-null    float64\n",
            " 2   Weight (kg)                                               629 non-null    float64\n",
            " 3   Arm Span (cm)                                             629 non-null    float64\n",
            " 4   How long have you been climbing for?                      629 non-null    float64\n",
            " 5   Where do you climb?                                       629 non-null    int64  \n",
            " 6   Hardest V Grade ever climbed                              629 non-null    int64  \n",
            " 7   Hardest V Grade climbed in the Last 3 months              629 non-null    int64  \n",
            " 8   The V grade you can send 90-100% of routes                629 non-null    int64  \n",
            " 9   Frequency of climbing sessions per week                   629 non-null    int64  \n",
            " 10  Average hours climbing per week (not including training)  629 non-null    int64  \n",
            " 11  Average hours Training for climbing per week              629 non-null    int64  \n",
            " 12  Hangboard Frequency per week                              629 non-null    int64  \n",
            " 13  Campus Board frequency per week                           629 non-null    int64  \n",
            " 14  Campus Board time per week (hours)                        629 non-null    int64  \n",
            " 15  Frequency of Endurance training sesions per week          629 non-null    int64  \n",
            " 16  General Strength Training frequency per week              629 non-null    int64  \n",
            " 17  Max pull up reps                                          629 non-null    float64\n",
            " 18  5 rep max weighted pull ups                               629 non-null    float64\n",
            " 19  max push ups reps                                         629 non-null    float64\n",
            "dtypes: float64(7), int64(13)\n",
            "memory usage: 98.4 KB\n"
          ]
        }
      ]
    },
    {
      "cell_type": "markdown",
      "source": [
        "### 2.3 Standardizing Data"
      ],
      "metadata": {
        "id": "yvzAU1kKdQE4"
      }
    },
    {
      "cell_type": "code",
      "source": [
        "from sklearn.preprocessing import StandardScaler\n",
        "\n",
        "#numerical_columns = df_updated.select_dtypes(include=np.number).columns\n",
        "\n",
        "scaler = StandardScaler()\n",
        "\n",
        "df_updated[numerical_columns] = scaler.fit_transform(df_updated[numerical_columns])\n"
      ],
      "metadata": {
        "id": "dEfvSZlBpkmZ"
      },
      "execution_count": 264,
      "outputs": []
    },
    {
      "cell_type": "markdown",
      "source": [
        "## 3. Training/Evaluating Models"
      ],
      "metadata": {
        "id": "M4TXQuczfnqI"
      }
    },
    {
      "cell_type": "markdown",
      "source": [
        "For this project I will be training two models, as you may have already noticed. Knowing is a continuous prediction problem, I deciced to explore Linear Regression model vs a Non-Linear Regression model (Decision Trees in this case)."
      ],
      "metadata": {
        "id": "rpxBuSMdguds"
      }
    },
    {
      "cell_type": "markdown",
      "source": [
        "### 3.1 Splitting the data"
      ],
      "metadata": {
        "id": "dikU5cKqh6s4"
      }
    },
    {
      "cell_type": "code",
      "source": [
        "from sklearn.model_selection import train_test_split\n",
        "\n",
        "target = 'Hardest V Grade ever climbed'\n",
        "\n",
        "df_lr = df_updated.copy()\n",
        "\n",
        "X = df_lr.drop(target, axis=1)\n",
        "y = df_lr[target]\n",
        "\n",
        "\n",
        "X_train, X_test, y_train, y_test = train_test_split(X, y, test_size=0.3, random_state=0)\n"
      ],
      "metadata": {
        "id": "zeNlFDcmh6F1"
      },
      "execution_count": 265,
      "outputs": []
    },
    {
      "cell_type": "markdown",
      "source": [
        "### 3.2 Training the models"
      ],
      "metadata": {
        "id": "PQyhxVbhttCn"
      }
    },
    {
      "cell_type": "markdown",
      "source": [
        "> For Linear Regression (LR):"
      ],
      "metadata": {
        "id": "KBjMY1Gu0VW2"
      }
    },
    {
      "cell_type": "code",
      "source": [
        "from sklearn.linear_model import LinearRegression\n",
        "from sklearn.metrics import mean_absolute_error, mean_squared_error\n",
        "\n",
        "lr_model = LinearRegression()\n",
        "lr_model.fit(X_train, y_train)\n"
      ],
      "metadata": {
        "colab": {
          "base_uri": "https://localhost:8080/",
          "height": 75
        },
        "id": "AmdUoP3VtZDw",
        "outputId": "916621a1-3179-4f90-e7f5-7f8f156634e5"
      },
      "execution_count": 266,
      "outputs": [
        {
          "output_type": "execute_result",
          "data": {
            "text/plain": [
              "LinearRegression()"
            ],
            "text/html": [
              "<style>#sk-container-id-10 {color: black;background-color: white;}#sk-container-id-10 pre{padding: 0;}#sk-container-id-10 div.sk-toggleable {background-color: white;}#sk-container-id-10 label.sk-toggleable__label {cursor: pointer;display: block;width: 100%;margin-bottom: 0;padding: 0.3em;box-sizing: border-box;text-align: center;}#sk-container-id-10 label.sk-toggleable__label-arrow:before {content: \"▸\";float: left;margin-right: 0.25em;color: #696969;}#sk-container-id-10 label.sk-toggleable__label-arrow:hover:before {color: black;}#sk-container-id-10 div.sk-estimator:hover label.sk-toggleable__label-arrow:before {color: black;}#sk-container-id-10 div.sk-toggleable__content {max-height: 0;max-width: 0;overflow: hidden;text-align: left;background-color: #f0f8ff;}#sk-container-id-10 div.sk-toggleable__content pre {margin: 0.2em;color: black;border-radius: 0.25em;background-color: #f0f8ff;}#sk-container-id-10 input.sk-toggleable__control:checked~div.sk-toggleable__content {max-height: 200px;max-width: 100%;overflow: auto;}#sk-container-id-10 input.sk-toggleable__control:checked~label.sk-toggleable__label-arrow:before {content: \"▾\";}#sk-container-id-10 div.sk-estimator input.sk-toggleable__control:checked~label.sk-toggleable__label {background-color: #d4ebff;}#sk-container-id-10 div.sk-label input.sk-toggleable__control:checked~label.sk-toggleable__label {background-color: #d4ebff;}#sk-container-id-10 input.sk-hidden--visually {border: 0;clip: rect(1px 1px 1px 1px);clip: rect(1px, 1px, 1px, 1px);height: 1px;margin: -1px;overflow: hidden;padding: 0;position: absolute;width: 1px;}#sk-container-id-10 div.sk-estimator {font-family: monospace;background-color: #f0f8ff;border: 1px dotted black;border-radius: 0.25em;box-sizing: border-box;margin-bottom: 0.5em;}#sk-container-id-10 div.sk-estimator:hover {background-color: #d4ebff;}#sk-container-id-10 div.sk-parallel-item::after {content: \"\";width: 100%;border-bottom: 1px solid gray;flex-grow: 1;}#sk-container-id-10 div.sk-label:hover label.sk-toggleable__label {background-color: #d4ebff;}#sk-container-id-10 div.sk-serial::before {content: \"\";position: absolute;border-left: 1px solid gray;box-sizing: border-box;top: 0;bottom: 0;left: 50%;z-index: 0;}#sk-container-id-10 div.sk-serial {display: flex;flex-direction: column;align-items: center;background-color: white;padding-right: 0.2em;padding-left: 0.2em;position: relative;}#sk-container-id-10 div.sk-item {position: relative;z-index: 1;}#sk-container-id-10 div.sk-parallel {display: flex;align-items: stretch;justify-content: center;background-color: white;position: relative;}#sk-container-id-10 div.sk-item::before, #sk-container-id-10 div.sk-parallel-item::before {content: \"\";position: absolute;border-left: 1px solid gray;box-sizing: border-box;top: 0;bottom: 0;left: 50%;z-index: -1;}#sk-container-id-10 div.sk-parallel-item {display: flex;flex-direction: column;z-index: 1;position: relative;background-color: white;}#sk-container-id-10 div.sk-parallel-item:first-child::after {align-self: flex-end;width: 50%;}#sk-container-id-10 div.sk-parallel-item:last-child::after {align-self: flex-start;width: 50%;}#sk-container-id-10 div.sk-parallel-item:only-child::after {width: 0;}#sk-container-id-10 div.sk-dashed-wrapped {border: 1px dashed gray;margin: 0 0.4em 0.5em 0.4em;box-sizing: border-box;padding-bottom: 0.4em;background-color: white;}#sk-container-id-10 div.sk-label label {font-family: monospace;font-weight: bold;display: inline-block;line-height: 1.2em;}#sk-container-id-10 div.sk-label-container {text-align: center;}#sk-container-id-10 div.sk-container {/* jupyter's `normalize.less` sets `[hidden] { display: none; }` but bootstrap.min.css set `[hidden] { display: none !important; }` so we also need the `!important` here to be able to override the default hidden behavior on the sphinx rendered scikit-learn.org. See: https://github.com/scikit-learn/scikit-learn/issues/21755 */display: inline-block !important;position: relative;}#sk-container-id-10 div.sk-text-repr-fallback {display: none;}</style><div id=\"sk-container-id-10\" class=\"sk-top-container\"><div class=\"sk-text-repr-fallback\"><pre>LinearRegression()</pre><b>In a Jupyter environment, please rerun this cell to show the HTML representation or trust the notebook. <br />On GitHub, the HTML representation is unable to render, please try loading this page with nbviewer.org.</b></div><div class=\"sk-container\" hidden><div class=\"sk-item\"><div class=\"sk-estimator sk-toggleable\"><input class=\"sk-toggleable__control sk-hidden--visually\" id=\"sk-estimator-id-10\" type=\"checkbox\" checked><label for=\"sk-estimator-id-10\" class=\"sk-toggleable__label sk-toggleable__label-arrow\">LinearRegression</label><div class=\"sk-toggleable__content\"><pre>LinearRegression()</pre></div></div></div></div></div>"
            ]
          },
          "metadata": {},
          "execution_count": 266
        }
      ]
    },
    {
      "cell_type": "markdown",
      "source": [
        "> For Decision Trees (DT):"
      ],
      "metadata": {
        "id": "LLO1umz-Axwg"
      }
    },
    {
      "cell_type": "code",
      "source": [
        "from sklearn.tree import DecisionTreeRegressor\n",
        "\n",
        "dt_model = DecisionTreeRegressor(random_state=0)\n",
        "dt_model.fit(X_train, y_train)\n"
      ],
      "metadata": {
        "colab": {
          "base_uri": "https://localhost:8080/",
          "height": 75
        },
        "id": "Kp-JtM5xuFLk",
        "outputId": "2b5ff873-ecaf-4dd2-ef1a-a335dc1f8610"
      },
      "execution_count": 267,
      "outputs": [
        {
          "output_type": "execute_result",
          "data": {
            "text/plain": [
              "DecisionTreeRegressor(random_state=0)"
            ],
            "text/html": [
              "<style>#sk-container-id-11 {color: black;background-color: white;}#sk-container-id-11 pre{padding: 0;}#sk-container-id-11 div.sk-toggleable {background-color: white;}#sk-container-id-11 label.sk-toggleable__label {cursor: pointer;display: block;width: 100%;margin-bottom: 0;padding: 0.3em;box-sizing: border-box;text-align: center;}#sk-container-id-11 label.sk-toggleable__label-arrow:before {content: \"▸\";float: left;margin-right: 0.25em;color: #696969;}#sk-container-id-11 label.sk-toggleable__label-arrow:hover:before {color: black;}#sk-container-id-11 div.sk-estimator:hover label.sk-toggleable__label-arrow:before {color: black;}#sk-container-id-11 div.sk-toggleable__content {max-height: 0;max-width: 0;overflow: hidden;text-align: left;background-color: #f0f8ff;}#sk-container-id-11 div.sk-toggleable__content pre {margin: 0.2em;color: black;border-radius: 0.25em;background-color: #f0f8ff;}#sk-container-id-11 input.sk-toggleable__control:checked~div.sk-toggleable__content {max-height: 200px;max-width: 100%;overflow: auto;}#sk-container-id-11 input.sk-toggleable__control:checked~label.sk-toggleable__label-arrow:before {content: \"▾\";}#sk-container-id-11 div.sk-estimator input.sk-toggleable__control:checked~label.sk-toggleable__label {background-color: #d4ebff;}#sk-container-id-11 div.sk-label input.sk-toggleable__control:checked~label.sk-toggleable__label {background-color: #d4ebff;}#sk-container-id-11 input.sk-hidden--visually {border: 0;clip: rect(1px 1px 1px 1px);clip: rect(1px, 1px, 1px, 1px);height: 1px;margin: -1px;overflow: hidden;padding: 0;position: absolute;width: 1px;}#sk-container-id-11 div.sk-estimator {font-family: monospace;background-color: #f0f8ff;border: 1px dotted black;border-radius: 0.25em;box-sizing: border-box;margin-bottom: 0.5em;}#sk-container-id-11 div.sk-estimator:hover {background-color: #d4ebff;}#sk-container-id-11 div.sk-parallel-item::after {content: \"\";width: 100%;border-bottom: 1px solid gray;flex-grow: 1;}#sk-container-id-11 div.sk-label:hover label.sk-toggleable__label {background-color: #d4ebff;}#sk-container-id-11 div.sk-serial::before {content: \"\";position: absolute;border-left: 1px solid gray;box-sizing: border-box;top: 0;bottom: 0;left: 50%;z-index: 0;}#sk-container-id-11 div.sk-serial {display: flex;flex-direction: column;align-items: center;background-color: white;padding-right: 0.2em;padding-left: 0.2em;position: relative;}#sk-container-id-11 div.sk-item {position: relative;z-index: 1;}#sk-container-id-11 div.sk-parallel {display: flex;align-items: stretch;justify-content: center;background-color: white;position: relative;}#sk-container-id-11 div.sk-item::before, #sk-container-id-11 div.sk-parallel-item::before {content: \"\";position: absolute;border-left: 1px solid gray;box-sizing: border-box;top: 0;bottom: 0;left: 50%;z-index: -1;}#sk-container-id-11 div.sk-parallel-item {display: flex;flex-direction: column;z-index: 1;position: relative;background-color: white;}#sk-container-id-11 div.sk-parallel-item:first-child::after {align-self: flex-end;width: 50%;}#sk-container-id-11 div.sk-parallel-item:last-child::after {align-self: flex-start;width: 50%;}#sk-container-id-11 div.sk-parallel-item:only-child::after {width: 0;}#sk-container-id-11 div.sk-dashed-wrapped {border: 1px dashed gray;margin: 0 0.4em 0.5em 0.4em;box-sizing: border-box;padding-bottom: 0.4em;background-color: white;}#sk-container-id-11 div.sk-label label {font-family: monospace;font-weight: bold;display: inline-block;line-height: 1.2em;}#sk-container-id-11 div.sk-label-container {text-align: center;}#sk-container-id-11 div.sk-container {/* jupyter's `normalize.less` sets `[hidden] { display: none; }` but bootstrap.min.css set `[hidden] { display: none !important; }` so we also need the `!important` here to be able to override the default hidden behavior on the sphinx rendered scikit-learn.org. See: https://github.com/scikit-learn/scikit-learn/issues/21755 */display: inline-block !important;position: relative;}#sk-container-id-11 div.sk-text-repr-fallback {display: none;}</style><div id=\"sk-container-id-11\" class=\"sk-top-container\"><div class=\"sk-text-repr-fallback\"><pre>DecisionTreeRegressor(random_state=0)</pre><b>In a Jupyter environment, please rerun this cell to show the HTML representation or trust the notebook. <br />On GitHub, the HTML representation is unable to render, please try loading this page with nbviewer.org.</b></div><div class=\"sk-container\" hidden><div class=\"sk-item\"><div class=\"sk-estimator sk-toggleable\"><input class=\"sk-toggleable__control sk-hidden--visually\" id=\"sk-estimator-id-11\" type=\"checkbox\" checked><label for=\"sk-estimator-id-11\" class=\"sk-toggleable__label sk-toggleable__label-arrow\">DecisionTreeRegressor</label><div class=\"sk-toggleable__content\"><pre>DecisionTreeRegressor(random_state=0)</pre></div></div></div></div></div>"
            ]
          },
          "metadata": {},
          "execution_count": 267
        }
      ]
    },
    {
      "cell_type": "markdown",
      "source": [
        "### 3.3 Evaluating Models Performance"
      ],
      "metadata": {
        "id": "U12e8aKo0ELX"
      }
    },
    {
      "cell_type": "markdown",
      "source": [
        "> For Linear Regression (LR):"
      ],
      "metadata": {
        "id": "B-unRM-iBBp_"
      }
    },
    {
      "cell_type": "code",
      "source": [
        "# predictions on the testing set\n",
        "y_pred_lr = lr_model.predict(X_test)\n",
        "\n",
        "# calculate evaluation metrics for LR\n",
        "mae_lr = mean_absolute_error(y_test, y_pred_lr)\n",
        "mse_lr = mean_squared_error(y_test, y_pred_lr)\n",
        "rmse_lr = np.sqrt(mse_lr)\n"
      ],
      "metadata": {
        "id": "ZI6E1K1NAatA"
      },
      "execution_count": 268,
      "outputs": []
    },
    {
      "cell_type": "markdown",
      "source": [
        "> For Decision Trees (DT):"
      ],
      "metadata": {
        "id": "LsKpvJluBGeW"
      }
    },
    {
      "cell_type": "code",
      "source": [
        "# predictions on the same testing set\n",
        "y_pred_dt = dt_model.predict(X_test)\n",
        "\n",
        "# calculate evaluation metrics for the Decision Tree model\n",
        "mae_dt = mean_absolute_error(y_test, y_pred_dt)\n",
        "mse_dt = mean_squared_error(y_test, y_pred_dt)\n",
        "rmse_dt = np.sqrt(mse_dt)\n"
      ],
      "metadata": {
        "id": "Wbvj0bCJAb-g"
      },
      "execution_count": 269,
      "outputs": []
    },
    {
      "cell_type": "markdown",
      "source": [
        "> Comparing Linear Regression vs. Non-Linear Regression (Decision Trees):"
      ],
      "metadata": {
        "id": "yJKjaP5LBjIr"
      }
    },
    {
      "cell_type": "code",
      "source": [
        "header = 'Linear Reg. | Non-Linear Reg. \\n {}\\n'.format(\"-\"*30)\n",
        "mae_out = 'MAE:  {:.2f} | {:.2f}\\n'.format(mae_lr,mae_dt)\n",
        "mse_out = 'MSE:  {:.2f} | {:.2f}\\n'.format(mse_lr,mse_dt)\n",
        "rmse_out = 'RMSE: {:.2f} | {:.2f}\\n'.format(rmse_lr,rmse_dt)\n",
        "\n",
        "print(header,mae_out,mse_out,rmse_out)"
      ],
      "metadata": {
        "colab": {
          "base_uri": "https://localhost:8080/"
        },
        "id": "VtJtWg1SBhOl",
        "outputId": "7cb23710-35c2-42c2-f180-74136f616b93"
      },
      "execution_count": 270,
      "outputs": [
        {
          "output_type": "stream",
          "name": "stdout",
          "text": [
            "Linear Reg. | Non-Linear Reg. \n",
            " ------------------------------\n",
            " MAE:  0.59 | 0.52\n",
            " MSE:  0.70 | 0.74\n",
            " RMSE: 0.84 | 0.86\n",
            "\n"
          ]
        }
      ]
    },
    {
      "cell_type": "markdown",
      "source": [
        "Both models' performance was assessed using three evaluation metrics measurement: Mean Absolute Error (MAE), Mean Squared Error (MSE), and Root Mean Squared Error (RMSE). Here are the results:\n",
        "\n",
        "\n",
        "Linear Regression Model:\n",
        "\n",
        "  - MAE: 0.59\n",
        "\n",
        "  - MSE: 0.70\n",
        "\n",
        "  - RMSE: 0.84\n",
        "\n",
        "\n",
        "Non-Linear Regression Model:\n",
        "\n",
        "  - MAE: 0.52\n",
        "\n",
        "  - MSE: 0.74\n",
        "\n",
        "  - RMSE: 0.86\n",
        "\n",
        "\n",
        "The Non-Linear Regression model showed a lower MAE than the Linear Regression model; this indicated that it performed better on average, in terms of deviation from actual grades. So, basically the Non-Linear model's predictions are closer to reality. By being little more a accurate, I belive the Non-Linear model potentially identified complex data relationships that the Linear model could pick up on. But, when we look at the Mean Squared Error (MSE) and Root Mean Squared Error (RMSE), we see that the Non-Linear model had slightly higher statistics compared to the Linear one. This means that while it generally gets closer to real values in prediction, it may also suffer from larger errors in some cases."
      ],
      "metadata": {
        "id": "PvlAu8pVFftA"
      }
    },
    {
      "cell_type": "markdown",
      "source": [
        "##Conclusion"
      ],
      "metadata": {
        "id": "cm0NsL5-091O"
      }
    },
    {
      "cell_type": "markdown",
      "source": [
        "We can conclude that the Non-Linear model had a slightly lower MAE which makes it look like it's better at handling the complex relationships between climbers and their performance. However, with an increased MSE and RMSE, there's a chance that while the average errors are lower, the variability of those errors is higher. This project shows how difficult it was to predict climbing performance.\n",
        "\n",
        "\n"
      ],
      "metadata": {
        "id": "VETw61YOWSsA"
      }
    },
    {
      "cell_type": "markdown",
      "source": [
        "---"
      ],
      "metadata": {
        "id": "iUsqjA1ZYDft"
      }
    },
    {
      "cell_type": "markdown",
      "source": [
        "## Personal work/notes/curiosities"
      ],
      "metadata": {
        "id": "BAuihiCT1hq6"
      }
    },
    {
      "cell_type": "markdown",
      "source": [
        "For future work, some to-do's:\n",
        "- tuning of the Non-Linear model\n",
        "- testing other non-linear models such as Random Forests or GBoosting\n",
        "- Better data"
      ],
      "metadata": {
        "id": "FFiavqZGX1gK"
      }
    },
    {
      "cell_type": "markdown",
      "source": [
        "### A) Feature importance"
      ],
      "metadata": {
        "id": "F7LduVoSYkQp"
      }
    },
    {
      "cell_type": "markdown",
      "source": [
        "> trying to get some insight of what features are more important to do/work to improve climbing"
      ],
      "metadata": {
        "id": "8zFwYCSxYPQ1"
      }
    },
    {
      "cell_type": "code",
      "source": [
        "feature_importances = dt_model.feature_importances_\n",
        "\n",
        "features_df = pd.DataFrame({\n",
        "  'Feature': X_train.columns,\n",
        "  'Importance': feature_importances\n",
        "}).sort_values(by='Importance', ascending=False)\n",
        "\n",
        "print(features_df)"
      ],
      "metadata": {
        "colab": {
          "base_uri": "https://localhost:8080/"
        },
        "id": "jgOGSIoLySgM",
        "outputId": "5af053ce-4869-44fc-d503-db5495606884"
      },
      "execution_count": 271,
      "outputs": [
        {
          "output_type": "stream",
          "name": "stdout",
          "text": [
            "                                              Feature  Importance\n",
            "6        Hardest V Grade climbed in the Last 3 months    0.787719\n",
            "7          The V grade you can send 90-100% of routes    0.133266\n",
            "4                How long have you been climbing for?    0.019356\n",
            "10       Average hours Training for climbing per week    0.017367\n",
            "5                                 Where do you climb?    0.005344\n",
            "16                                   Max pull up reps    0.005138\n",
            "3                                       Arm Span (cm)    0.004603\n",
            "1                                         Height (cm)    0.004524\n",
            "18                                  max push ups reps    0.004255\n",
            "17                        5 rep max weighted pull ups    0.003246\n",
            "11                       Hangboard Frequency per week    0.002593\n",
            "14   Frequency of Endurance training sesions per week    0.002474\n",
            "13                 Campus Board time per week (hours)    0.002351\n",
            "2                                         Weight (kg)    0.002127\n",
            "9   Average hours climbing per week (not including...    0.002009\n",
            "8             Frequency of climbing sessions per week    0.001877\n",
            "12                    Campus Board frequency per week    0.000945\n",
            "15       General Strength Training frequency per week    0.000647\n",
            "0                                                 Sex    0.000160\n"
          ]
        }
      ]
    },
    {
      "cell_type": "markdown",
      "source": [
        "### B) Tunning Tentative"
      ],
      "metadata": {
        "id": "xJzFO7zvY7os"
      }
    },
    {
      "cell_type": "code",
      "source": [
        "from sklearn.model_selection import GridSearchCV\n",
        "\n",
        "param_grid = {\n",
        "  'max_depth': [None, 10, 20, 30, 40, 50],\n",
        "  'min_samples_split': [2, 5, 10],\n",
        "  'min_samples_leaf': [1, 2, 4]\n",
        "}\n",
        "\n",
        "grid_search = GridSearchCV(DecisionTreeRegressor(random_state=42), param_grid, cv=5,\n",
        "                           scoring='neg_mean_squared_error', verbose=1, n_jobs=-1)\n",
        "\n",
        "grid_search.fit(X_train, y_train)\n",
        "\n",
        "best_params = grid_search.best_params_\n",
        "best_score = -grid_search.best_score_\n",
        "\n",
        "best_params, best_score\n"
      ],
      "metadata": {
        "colab": {
          "base_uri": "https://localhost:8080/"
        },
        "id": "q4iX8MbQzBnw",
        "outputId": "aa5c8d16-8ae1-4d99-adf8-61abee7191ce"
      },
      "execution_count": 272,
      "outputs": [
        {
          "output_type": "stream",
          "name": "stdout",
          "text": [
            "Fitting 5 folds for each of 54 candidates, totalling 270 fits\n"
          ]
        },
        {
          "output_type": "execute_result",
          "data": {
            "text/plain": [
              "({'max_depth': 10, 'min_samples_leaf': 2, 'min_samples_split': 2},\n",
              " 1.0678518407573467)"
            ]
          },
          "metadata": {},
          "execution_count": 272
        }
      ]
    },
    {
      "cell_type": "markdown",
      "source": [
        "#### Testing tunned params:"
      ],
      "metadata": {
        "id": "U_ip7hwjZH78"
      }
    },
    {
      "cell_type": "code",
      "source": [
        "tuned_dt_model = DecisionTreeRegressor(max_depth=10, min_samples_leaf=2, min_samples_split=2, random_state=0)\n",
        "tuned_dt_model.fit(X_train, y_train)\n",
        "\n",
        "y_pred_tuned = tuned_dt_model.predict(X_test)\n",
        "\n",
        "mae_tuned = mean_absolute_error(y_test, y_pred_tuned)\n",
        "mse_tuned = mean_squared_error(y_test, y_pred_tuned)\n",
        "rmse_tuned = np.sqrt(mse_tuned)\n",
        "\n",
        "mae_tuned, mse_tuned, rmse_tuned"
      ],
      "metadata": {
        "colab": {
          "base_uri": "https://localhost:8080/"
        },
        "id": "5oKkS27LzbLK",
        "outputId": "4eaf2641-d6f0-4cc2-f4a1-93f75a5366a9"
      },
      "execution_count": 273,
      "outputs": [
        {
          "output_type": "execute_result",
          "data": {
            "text/plain": [
              "(0.54832050665384, 0.8185716821291316, 0.9047495134727245)"
            ]
          },
          "metadata": {},
          "execution_count": 273
        }
      ]
    },
    {
      "cell_type": "markdown",
      "source": [
        "and it got worse, nice..."
      ],
      "metadata": {
        "id": "7Re6UdvwZfr9"
      }
    },
    {
      "cell_type": "markdown",
      "source": [
        "### C) Prediction base on user input"
      ],
      "metadata": {
        "id": "JtcsY03VZs-v"
      }
    },
    {
      "cell_type": "markdown",
      "source": [
        "Notes:\n",
        "\n",
        "For \"Sex\":\n",
        "- if \"Female\", answer \"0\". Otherwise, \"1\".\n",
        "\n",
        "For \"Where do you climb?\"\n",
        "\n",
        "- if \"Indoor Climbing only\", answer \"0\"\n",
        "- if \"Outdoor Climbing only\",  \"1\"\n",
        "- if\"Indoor and outdoor climbing\", \"2\"\n",
        "\n",
        "\n",
        "For V grades:\n",
        "\n",
        "- if \"I don't boulder\": -1\n",
        "- else just put the grade without the V in front\n"
      ],
      "metadata": {
        "id": "rm9NDCImaido"
      }
    },
    {
      "cell_type": "code",
      "source": [
        "feature_prompts = {\n",
        "  \"Sex\": \"Enter sex:\" ,\n",
        "  \"Height (cm)\": \"Enter height (cm):\" ,\n",
        "  \"Weight (kg)\": \"Enter weight (kg):\" ,\n",
        "  \"Arm Span (cm)\": \"Enter arm span (cm):\" ,\n",
        "  \"How long have you been climbing for?\": \"Enter how long have you been climbing for?:\" ,\n",
        "  \"Where do you climb?\": \"Enter where do you climb?:\" ,\n",
        "  \"Hardest V Grade climbed in the Last 3 months\": \"Enter hardest v grade climbed in the last 3 months:\" ,\n",
        "  \"The V grade you can send 90-100% of routes\": \"Enter the v grade you can send 90-100% of routes:\" ,\n",
        "  \"Frequency of climbing sessions per week\": \"Enter frequency of climbing sessions per week:\" ,\n",
        "  \"Average hours climbing per week (not including training)\": \"Enter average hours climbing per week (not including training):\" ,\n",
        "  \"Average hours Training for climbing per week\": \"Enter average hours training for climbing per week:\" ,\n",
        "  \"Hangboard Frequency per week\": \"Enter hangboard frequency per week:\" ,\n",
        "  \"Campus Board frequency per week\": \"Enter campus board frequency per week:\" ,\n",
        "  \"Campus Board time per week (hours)\": \"Enter campus board time per week (hours):\" ,\n",
        "  \"Frequency of Endurance training sesions per week\": \"Enter frequency of endurance training sesions per week:\" ,\n",
        "  \"General Strength Training frequency per week\": \"Enter general strength training frequency per week:\" ,\n",
        "  \"Max pull up reps\": \"Enter max pull up reps:\" ,\n",
        "  \"5 rep max weighted pull ups\": \"Enter 5 rep max weighted pull ups:\" ,\n",
        "  \"max push ups reps\": \"Enter max push ups reps:\"\n",
        "}\n",
        "\n",
        "user_input = {}\n",
        "\n",
        "for feature, prompt in feature_prompts.items():\n",
        "    user_input[feature] = float(input(prompt))"
      ],
      "metadata": {
        "id": "CpL-YmD5i903"
      },
      "execution_count": null,
      "outputs": []
    },
    {
      "cell_type": "code",
      "source": [
        "def predict_user_grade(model, user_input):\n",
        "\n",
        "    user_input_df = pd.DataFrame([user_input])\n",
        "\n",
        "    df_updated[numerical_columns] = scaler.fit_transform(df_updated[numerical_columns])\n",
        "    user_input_df = scaler.fit_transform(user_input_df)\n",
        "\n",
        "\n",
        "    # Make prediction\n",
        "    predicted_grade = model.predict(user_input_df)[0]\n",
        "\n",
        "    return abs(predicted_grade)\n",
        "\n",
        "# Assuming `tuned_dt_model` is your trained and tuned model\n",
        "user_predicted_grade = predict_user_grade(tuned_dt_model, user_input)\n",
        "print(f\"Predicted hardest V grade: {user_predicted_grade}\")\n"
      ],
      "metadata": {
        "colab": {
          "base_uri": "https://localhost:8080/"
        },
        "id": "LfCd-fNpZ5GA",
        "outputId": "8426cdf1-37b1-4799-a4de-75fcba268c70"
      },
      "execution_count": 275,
      "outputs": [
        {
          "output_type": "stream",
          "name": "stdout",
          "text": [
            "Predicted hardest V grade: 1.0\n"
          ]
        },
        {
          "output_type": "stream",
          "name": "stderr",
          "text": [
            "/usr/local/lib/python3.10/dist-packages/sklearn/base.py:439: UserWarning: X does not have valid feature names, but DecisionTreeRegressor was fitted with feature names\n",
            "  warnings.warn(\n"
          ]
        }
      ]
    },
    {
      "cell_type": "markdown",
      "source": [
        "// check why is sandbagging the grade"
      ],
      "metadata": {
        "id": "vqj9dbRXpwLJ"
      }
    }
  ]
}